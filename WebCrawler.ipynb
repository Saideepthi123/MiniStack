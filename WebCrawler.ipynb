{
  "nbformat": 4,
  "nbformat_minor": 0,
  "metadata": {
    "colab": {
      "name": "WebCrawler.ipynb",
      "provenance": []
    },
    "kernelspec": {
      "name": "python3",
      "display_name": "Python 3"
    }
  },
  "cells": [
    {
      "cell_type": "markdown",
      "metadata": {
        "id": "DZCkzsWS09Ux"
      },
      "source": [
        "**Importing Libraries**"
      ]
    },
    {
      "cell_type": "code",
      "metadata": {
        "id": "wY4z1FZF7ZAt"
      },
      "source": [
        "import requests\n",
        "from bs4 import BeautifulSoup\n",
        "import operator\n",
        "import os\n",
        "import sys"
      ],
      "execution_count": 1,
      "outputs": []
    },
    {
      "cell_type": "markdown",
      "metadata": {
        "id": "B5BNjEUS4aUH"
      },
      "source": [
        "**Questions asked on each TechStack**"
      ]
    },
    {
      "cell_type": "code",
      "metadata": {
        "id": "CDiCqeCe8C-J"
      },
      "source": [
        "Tag_Rank = {}\n",
        "\n",
        "\n",
        "def tag_crawler(url):\n",
        "    source_code = requests.get(url).text\n",
        "    soup = BeautifulSoup(source_code, 'html.parser')\n",
        "    for tag_div in soup.find_all('div', {'class': 'post-taglist'}):\n",
        "        for tag_link in tag_div.find_all('a'):\n",
        "            tag = tag_link.string\n",
        "            if tag in Tag_Rank:\n",
        "                Tag_Rank[tag] += 1\n",
        "            else:\n",
        "                Tag_Rank[tag] = 1\n"
      ],
      "execution_count": 2,
      "outputs": []
    },
    {
      "cell_type": "markdown",
      "metadata": {
        "id": "c5COC78Q4k9h"
      },
      "source": [
        "**Crawlering the Urls**"
      ]
    },
    {
      "cell_type": "code",
      "metadata": {
        "id": "il_4jwzh8bU1"
      },
      "source": [
        "def ques_links_crawler(base_url, end_url, page_limit):\n",
        "    page_no = 1\n",
        "    while page_no <= page_limit:\n",
        "        page_url = base_url + str(page_no) + end_url\n",
        "        source_code = requests.get(page_url).text\n",
        "        soup = BeautifulSoup(source_code, 'html.parser')\n",
        "        if page_no is 1:\n",
        "            os.system('clear')\n",
        "        print('crawling page ' + str(page_no) + ': [', end='')\n",
        "        prev_len = 0\n",
        "        q_no = 1\n",
        "        for ques_link in soup.find_all('a', {'class': 'question-hyperlink'}):\n",
        "            url = 'http://stackoverflow.com/' + ques_link.get('href')\n",
        "            #print(url)\n",
        "            tag_crawler(url)\n",
        "            for _ in range(prev_len):\n",
        "                print('\\b', end='')\n",
        "            print('#', end='')\n",
        "            p_cent = q_no*2\n",
        "            percent = '] (' + str(p_cent) + '%)'\n",
        "            prev_len = len(percent)\n",
        "            print(percent, end='')\n",
        "            sys.stdout.flush()\n",
        "            q_no += 1\n",
        "        page_no += 1\n"
      ],
      "execution_count": 5,
      "outputs": []
    },
    {
      "cell_type": "markdown",
      "metadata": {
        "id": "LXjqJx-QGcMj"
      },
      "source": [
        "**Main Function**"
      ]
    },
    {
      "cell_type": "code",
      "metadata": {
        "colab": {
          "base_uri": "https://localhost:8080/"
        },
        "id": "ga2FLLsx8eZ_",
        "outputId": "f9e4235e-be91-40c6-ff04-7862e2039aeb"
      },
      "source": [
        "def start():\n",
        "    page_limit = int(input('Enter no. of pages to crawl : '))\n",
        "    os.system('clear')\n",
        "    print('starting crawling...')\n",
        "    ques_links_crawler('http://stackoverflow.com/questions?page=', '&sort=newest', page_limit)\n",
        "    fw = open('Tags_frequency3.txt', 'w')\n",
        "    for key, value in sorted(Tag_Rank.items(), key=operator.itemgetter(1), reverse=True):\n",
        "        try:\n",
        "            fw.write(key + \" : \" + str(Tag_Rank[key]) + \"\\n\")\n",
        "        except TypeError:\n",
        "            continue\n",
        "    print('\\nResult saved to file Tags_frequency.txt')\n",
        "\n",
        "start()"
      ],
      "execution_count": 6,
      "outputs": [
        {
          "output_type": "stream",
          "text": [
            "Enter no. of pages to crawl : 1\n",
            "starting crawling...\n",
            "crawling page 1: [#] (2%)\b\b\b\b\b\b#] (4%)\b\b\b\b\b\b#] (6%)\b\b\b\b\b\b#] (8%)\b\b\b\b\b\b#] (10%)\b\b\b\b\b\b\b#] (12%)\b\b\b\b\b\b\b#] (14%)\b\b\b\b\b\b\b#] (16%)\b\b\b\b\b\b\b#] (18%)\b\b\b\b\b\b\b#] (20%)\b\b\b\b\b\b\b#] (22%)\b\b\b\b\b\b\b#] (24%)\b\b\b\b\b\b\b#] (26%)\b\b\b\b\b\b\b#] (28%)\b\b\b\b\b\b\b#] (30%)\b\b\b\b\b\b\b#] (32%)\b\b\b\b\b\b\b#] (34%)\b\b\b\b\b\b\b#] (36%)\b\b\b\b\b\b\b#] (38%)\b\b\b\b\b\b\b#] (40%)\b\b\b\b\b\b\b#] (42%)\b\b\b\b\b\b\b#] (44%)\b\b\b\b\b\b\b#] (46%)\b\b\b\b\b\b\b#] (48%)\b\b\b\b\b\b\b#] (50%)\b\b\b\b\b\b\b#] (52%)\b\b\b\b\b\b\b#] (54%)\b\b\b\b\b\b\b#] (56%)\b\b\b\b\b\b\b#] (58%)\b\b\b\b\b\b\b#] (60%)\b\b\b\b\b\b\b#] (64%)\b\b\b\b\b\b\b#] (66%)\b\b\b\b\b\b\b#] (68%)\b\b\b\b\b\b\b#] (70%)\b\b\b\b\b\b\b#] (72%)\b\b\b\b\b\b\b#] (74%)\b\b\b\b\b\b\b#] (76%)\b\b\b\b\b\b\b#] (78%)\b\b\b\b\b\b\b#] (80%)\b\b\b\b\b\b\b#] (82%)\b\b\b\b\b\b\b#] (84%)\b\b\b\b\b\b\b#] (86%)\b\b\b\b\b\b\b#] (88%)\b\b\b\b\b\b\b#] (90%)\b\b\b\b\b\b\b#] (92%)\b\b\b\b\b\b\b#] (94%)\b\b\b\b\b\b\b#] (96%)\b\b\b\b\b\b\b#] (98%)\b\b\b\b\b\b\b#] (100%)\b\b\b\b\b\b\b\b#] (102%)\b\b\b\b\b\b\b\b#] (104%)\b\b\b\b\b\b\b\b#] (106%)\b\b\b\b\b\b\b\b#] (108%)\b\b\b\b\b\b\b\b#] (110%)\b\b\b\b\b\b\b\b#] (112%)\b\b\b\b\b\b\b\b#] (114%)\b\b\b\b\b\b\b\b#] (116%)\b\b\b\b\b\b\b\b#] (118%)\b\b\b\b\b\b\b\b#] (120%)\b\b\b\b\b\b\b\b#] (122%)\b\b\b\b\b\b\b\b#] (124%)\b\b\b\b\b\b\b\b#] (126%)\b\b\b\b\b\b\b\b#] (128%)\b\b\b\b\b\b\b\b#] (130%)\b\b\b\b\b\b\b\b#] (132%)\b\b\b\b\b\b\b\b#] (134%)\b\b\b\b\b\b\b\b#] (136%)\b\b\b\b\b\b\b\b#] (138%)\b\b\b\b\b\b\b\b#] (140%)\b\b\b\b\b\b\b\b#] (142%)\b\b\b\b\b\b\b\b#] (144%)\b\b\b\b\b\b\b\b#] (146%)\b\b\b\b\b\b\b\b#] (148%)\n",
            "Result saved to file Tags_frequency.txt\n"
          ],
          "name": "stdout"
        }
      ]
    },
    {
      "cell_type": "code",
      "metadata": {
        "id": "Iho3ytjInU7_"
      },
      "source": [
        ""
      ],
      "execution_count": null,
      "outputs": []
    }
  ]
}