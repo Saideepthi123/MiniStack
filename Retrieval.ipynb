{
 "cells": [
  {
   "cell_type": "markdown",
   "metadata": {},
   "source": [
    "## Importing Libraries"
   ]
  },
  {
   "cell_type": "code",
   "execution_count": 1,
   "metadata": {},
   "outputs": [],
   "source": [
    "import pandas as pd\n",
    "import numpy as np\n",
    "from sklearn.feature_extraction.text import TfidfVectorizer\n",
    "from sklearn.metrics.pairwise import cosine_similarity"
   ]
  },
  {
   "cell_type": "code",
   "execution_count": 2,
   "metadata": {},
   "outputs": [],
   "source": [
    "total_df = pd.read_pickle(\"Preprocessed_questions_text.pkl\")"
   ]
  },
  {
   "cell_type": "code",
   "execution_count": 3,
   "metadata": {},
   "outputs": [
    {
     "name": "stdout",
     "output_type": "stream",
     "text": [
      "Shape (161327, 5)\n"
     ]
    },
    {
     "data": {
      "text/html": [
       "<div>\n",
       "<style scoped>\n",
       "    .dataframe tbody tr th:only-of-type {\n",
       "        vertical-align: middle;\n",
       "    }\n",
       "\n",
       "    .dataframe tbody tr th {\n",
       "        vertical-align: top;\n",
       "    }\n",
       "\n",
       "    .dataframe thead th {\n",
       "        text-align: right;\n",
       "    }\n",
       "</style>\n",
       "<table border=\"1\" class=\"dataframe\">\n",
       "  <thead>\n",
       "    <tr style=\"text-align: right;\">\n",
       "      <th></th>\n",
       "      <th>Id</th>\n",
       "      <th>Text</th>\n",
       "      <th>Topic</th>\n",
       "      <th>non_stopword_removed_preprocessed_text</th>\n",
       "      <th>preprocessed_text</th>\n",
       "    </tr>\n",
       "  </thead>\n",
       "  <tbody>\n",
       "    <tr>\n",
       "      <th>0</th>\n",
       "      <td>0</td>\n",
       "      <td>&lt;p&gt;Besides being \"one of the 7 meta questions ...</td>\n",
       "      <td>/AImeta</td>\n",
       "      <td>besides being one of the 7 meta questions ever...</td>\n",
       "      <td>besides one 7 meta questions every site ask pl...</td>\n",
       "    </tr>\n",
       "    <tr>\n",
       "      <th>1</th>\n",
       "      <td>1</td>\n",
       "      <td>&lt;p&gt;I've clicked on &lt;em&gt;chat&lt;/em&gt; link, but the...</td>\n",
       "      <td>/AImeta</td>\n",
       "      <td>i have clicked on chat link but the list is em...</td>\n",
       "      <td>clicked chat link list empty also tried create...</td>\n",
       "    </tr>\n",
       "    <tr>\n",
       "      <th>2</th>\n",
       "      <td>2</td>\n",
       "      <td>&lt;p&gt;I think this will be a crucial thing to fig...</td>\n",
       "      <td>/AImeta</td>\n",
       "      <td>i think this will be a crucial thing to figure...</td>\n",
       "      <td>think crucial thing figure one hand think impo...</td>\n",
       "    </tr>\n",
       "    <tr>\n",
       "      <th>3</th>\n",
       "      <td>3</td>\n",
       "      <td>&lt;p&gt;Are all questions asked on stats and data s...</td>\n",
       "      <td>/AImeta</td>\n",
       "      <td>are all questions asked on stats and data scie...</td>\n",
       "      <td>questions asked stats data science se also top...</td>\n",
       "    </tr>\n",
       "    <tr>\n",
       "      <th>4</th>\n",
       "      <td>4</td>\n",
       "      <td>&lt;p&gt;I've seen several questions that use the &lt;a...</td>\n",
       "      <td>/AImeta</td>\n",
       "      <td>i have seen several questions that use the art...</td>\n",
       "      <td>seen several questions use artificialintellige...</td>\n",
       "    </tr>\n",
       "  </tbody>\n",
       "</table>\n",
       "</div>"
      ],
      "text/plain": [
       "  Id                                               Text    Topic  \\\n",
       "0  0  <p>Besides being \"one of the 7 meta questions ...  /AImeta   \n",
       "1  1  <p>I've clicked on <em>chat</em> link, but the...  /AImeta   \n",
       "2  2  <p>I think this will be a crucial thing to fig...  /AImeta   \n",
       "3  3  <p>Are all questions asked on stats and data s...  /AImeta   \n",
       "4  4  <p>I've seen several questions that use the <a...  /AImeta   \n",
       "\n",
       "              non_stopword_removed_preprocessed_text  \\\n",
       "0  besides being one of the 7 meta questions ever...   \n",
       "1  i have clicked on chat link but the list is em...   \n",
       "2  i think this will be a crucial thing to figure...   \n",
       "3  are all questions asked on stats and data scie...   \n",
       "4  i have seen several questions that use the art...   \n",
       "\n",
       "                                   preprocessed_text  \n",
       "0  besides one 7 meta questions every site ask pl...  \n",
       "1  clicked chat link list empty also tried create...  \n",
       "2  think crucial thing figure one hand think impo...  \n",
       "3  questions asked stats data science se also top...  \n",
       "4  seen several questions use artificialintellige...  "
      ]
     },
     "execution_count": 3,
     "metadata": {},
     "output_type": "execute_result"
    }
   ],
   "source": [
    "print(\"Shape\", total_df.shape)\n",
    "total_df.head(5)"
   ]
  },
  {
   "cell_type": "code",
   "execution_count": 4,
   "metadata": {},
   "outputs": [
    {
     "name": "stdout",
     "output_type": "stream",
     "text": [
      "preprocessed_text (161327,)\n"
     ]
    }
   ],
   "source": [
    "preprocessed_text = total_df['preprocessed_text']\n",
    "print(\"preprocessed_text\", preprocessed_text.shape)"
   ]
  },
  {
   "cell_type": "markdown",
   "metadata": {},
   "source": [
    "## TF-IDF Vectorization"
   ]
  },
  {
   "cell_type": "code",
   "execution_count": 5,
   "metadata": {},
   "outputs": [],
   "source": [
    "\n",
    "vectorizer = TfidfVectorizer()\n",
    "X = vectorizer.fit_transform(total_df['non_stopword_removed_preprocessed_text'].values)"
   ]
  },
  {
   "cell_type": "code",
   "execution_count": 6,
   "metadata": {},
   "outputs": [
    {
     "data": {
      "text/plain": [
       "((161327, 487664), (161327, 5))"
      ]
     },
     "execution_count": 6,
     "metadata": {},
     "output_type": "execute_result"
    }
   ],
   "source": [
    "X.shape,total_df.shape"
   ]
  },
  {
   "cell_type": "code",
   "execution_count": 7,
   "metadata": {},
   "outputs": [],
   "source": [
    "Query = \"What is artifical intelligence\"\n",
    "Query_Bow = vectorizer.transform([Query])"
   ]
  },
  {
   "cell_type": "markdown",
   "metadata": {},
   "source": [
    "## Cosine Similarity"
   ]
  },
  {
   "cell_type": "code",
   "execution_count": 8,
   "metadata": {},
   "outputs": [],
   "source": [
    "doc_dict = dict()\n",
    "for i in range(X.shape[0]):\n",
    "    doc_dict[i] = cosine_similarity(X[i], Query_Bow)"
   ]
  },
  {
   "cell_type": "code",
   "execution_count": 9,
   "metadata": {},
   "outputs": [],
   "source": [
    "a = sorted(doc_dict.items(), key=lambda x: x[1], reverse=True) [:10]"
   ]
  },
  {
   "cell_type": "markdown",
   "metadata": {},
   "source": [
    "## Ranked Retrieval"
   ]
  },
  {
   "cell_type": "code",
   "execution_count": 12,
   "metadata": {},
   "outputs": [
    {
     "name": "stdout",
     "output_type": "stream",
     "text": [
      "does artifical intelligence need something else something that is not so limited as a computer to achieve the goal of building a humanly thinking and acting program\r",
      "\r",
      "if so what might this be i do not know much about quantum computers but might they be a solution\r\n",
      "*************************************************************************************************************\n",
      "when we talk about artificial intelligence human intelligence or any other form of intelligence what do we mean by the term intelligence in a general sense what would you call intelligent and what not in other words how do we define the term intelligence in the most general possible way\r\n",
      "*************************************************************************************************************\n",
      "from wikipedia\r",
      "\r",
      "\r",
      "  artificial neural networks ann or connectionist systems are computing systems that are inspired by but not identical to biological neural networks that constitute animal brains such systems learn to perform tasks by considering examples generally without being programmed with taskspecific rules\r",
      "\r",
      "\r",
      "artifical intelligence on the other hand refers to the broad term of \r",
      "\r",
      "\r",
      "  intelligence demonstrated by machines\r",
      "\r",
      "\r",
      "this obviously does not clear much up so the next logical question is what is intelligence \r",
      "\r",
      "this however is one of the most debated questions in computer science and many other fields so there is not a straight answer for this the most you can do is decide yourself what you think intelligence refers to because as far as we know there is no agreed upon way of quantifying intelligence and so the definition of such will remain ambiguous\r\n",
      "*************************************************************************************************************\n",
      "i think it is mostly right but not that intelligence is hard to define in my opinion it is simple a is more intelligent than b if a achieves some purpose in less steps than b it is functionalalgorithmic efficiency\r",
      "\r",
      "what is difficult to define is human intelligence\r",
      "\r",
      "but when someone says no x is not real intelligence what they mean is that it does not satisfy what we would consider real human intelligence\r",
      "\r",
      "so when people discount new and amazing discoveries in machine intelligence it is not because they are not amazing in their own way but because those discoveries while exhibiting intelligence are actually not replicating human intelligence  which is what many people actually mean when they say that thing is not really intelligent\r",
      "\r",
      "in truth we are very far in the science of artificial intelligence algorithmically speaking from an artificial human intelligence ahi\r",
      "\r",
      "additional note what is funny is that we do not call the science of artificial intelligence just  nothe science of intelligence' that we add the artificial qualifier by necessity pegs the science to what the artificiality implicitly emulates human intelligence in other words artificial intelligence must be by definition more specific to the thing it allegedly artificializes than a more general science of just intelligence\r\n",
      "*************************************************************************************************************\n",
      "for questions about the concept of intelligence not restricted to artificial intelligence but applied also to intelligence in nature quantification of intelligence problem solving strength and qualification of intelligence terminology and the range of meanings\n",
      "*************************************************************************************************************\n",
      "what is the definition of artificial intelligence\r\n",
      "*************************************************************************************************************\n",
      "i read a really interesting article titled stop calling it artificial intelligence that made a compelling critique of the name artificial intelligence\r",
      "\r",
      "\r",
      "the word intelligence is so broad that it is hard to say whether artificial intelligence is really intelligent artificial intelligence therefore tends to be misinterpreted as replicating human intelligence which is not actually what artificial intelligence is\r",
      "artificial intelligence is not really artificial artificial implies a fake imitation of something which is not exactly what artificial intelligence is\r",
      "\r",
      "\r",
      "what are good alternatives to the expression artificial intelligence good answers will not list names at random they will give a rationale for why their alternative name is a good one\r\n",
      "*************************************************************************************************************\n",
      "artificial intelligence researchers undoubtedly have an interest in defining the term used for their own field of discipline and there is little ambiguity in the term artificial the challenge is in that the word intelligence has historically been more of a qualitative description than a real number quantity\r",
      "\r",
      "how can the intelligence of one be compared with the intelligence of another iq testing averaging college board testing categories net worth chess and go tournament victory wrong decision rates various intellectual speed races evaluation boards and panels have been a painfully inadequate set of kludges for those involved in the mathematical theory behind the mental capabilities we call intelligence\r",
      "\r",
      "only a century ago intelligence was a qualitative term people associated with the ability to find solutions to problems in academia business and personal life as culture began to seek quantitative treatment of things once solely qualitative the dependency of mental capability on a person is age and and their environmental opportunities introduced a challenge the idea of intelligence quotient iq grew out of the desire to quantify mental potential independent of age and opportunity\r",
      "\r",
      "some have attempted to minimize environmental factors by producing standardized testing of fundamental cognitive skills as they apply to mathematics and language\r",
      "\r",
      "production system and fuzzy logic containers rules based deep learning artificial network based genetic algorithms and other forms of ai research have not produced machines that can score well in standardized tests designed for humans yet the natural language capabilities mechanical coordination planning excellence and the drawing of conclusions based on clear and verifiable reasoning continue to be sought in machines\r",
      "\r",
      "the below are categories of mental capabilities distinguished by their methods of measurement architecture of use and the kinds of research that have produced early promising results and continuous improvement\r",
      "\r",
      "\r",
      "dialog mdash measured both by alan turing is proposed imitation game and through the viability of answering system automation personal assistants and mobile chatbots\r",
      "mechanical control mdash measured both by system stability criteria and by rate of incident cost and reduction in loss of life in the case of transportation sector use of intelligent automation\r",
      "business intelligence mdash measured primarily by increase or decrease in profitability in relation to trends prior to or concurrent with manual planning and operational control\r",
      "\r",
      "\r",
      "the discovery of the most likely and optimal parameterization for a complex function based on some mathematical expression of what optimal means is deliberately not listed above what is the central activity for machine learning devices does not fit well into the categories of what has historically been called intelligence nor should it be statistical treatment of data sets for predictive purposes is not learning in the intellectual sense it is surface fitting machine learning is currently a tool to be used by human intelligence to extend its power like other computational tools\r",
      "\r",
      "this constraint on machine learning may in the future be transcended it is not known if and when artificial networks will demonstrate cognition logic the ability to recognize significance and effective capability in the categories listed above\r",
      "\r",
      "one of the difficulties in defining intelligence is the lack of unanimity regarding its dimensionality if intelligence is to be quantified the value of n where the measure of intelligence \\mathcali \\in \\mathbbr^n is significant the concepts of gfactor and iq imply that n  1 but several critics of this ideology such as howard earl gardner phd and thomas armstrong phd have proposed that there are multiple dimensions to intelligence\r",
      "\r",
      "\r",
      "linguistic intelligence “word smart”\r",
      "logicalmathematical intelligence “numberreasoning smart”\r",
      "spatial intelligence “picture smart”\r",
      "bodilykinesthetic intelligence “body smart”\r",
      "musical intelligence “music smart”\r",
      "interpersonal intelligence “people smart”\r",
      "intrapersonal intelligence “self smart”\r",
      "naturalist intelligence armstrong is addition\r",
      "existential intelligence armstrong is addition\r",
      "moral intelligence john bradshaw phd addition\r",
      "\r",
      "\r",
      "the argument that these are all manifestations of a single intelligence capability expressed in varying effectiveness due to education or other training has been systematically weakened by evidencebased discovery in the fields of cognitive science genetics and bioinformatics\r",
      "\r",
      "in genetics at least twentytwo independent genetic components to intelligence have been identified and that number is likely to grow these independent switches in human dna do not all impact the same neural controls in the brain indicating the evidencebased weakness of the gfactor ideology\r",
      "\r",
      "it is likely that some of the forms of human intelligence and dna expression map in complex ways that will be discovered over time and that this mapping will entirely replacing the gfactor simplification over time\r",
      "\r",
      "the term artificial intelligence may be better expressed as simulations of the forms and expressions of human intelligence and merely abbreviated as ai however that is not a definition it is a rough description there may never be a single precise definition for all the dimensions we loosely group under the single term if that is the case for human intelligence then it may also remain true for artificial intelligence\r",
      "\r",
      "there are some common characteristics one can list about all intelligent responses\r",
      "\r",
      "\r",
      "intelligence can only be measured and obtain usefulness within the context of a particular environmental condition and some objective or set of objectives  examples of objectives include staying alive obtaining a degree negotiating a truce amidst a conflict or growing assets or a business\r",
      "intelligence involves adaptation to unexpected conditions based on what is learned through experience therefore learning without the ability to apply what is learned is not intelligence and applying a process that was learned and simply transferred to some one or some thing controlling the a process is also not considered intelligence\r",
      "\r",
      "\r",
      "human intelligence can learn and apply in what seems to be a concurrent fashion    beyond that it would be amiss to discuss a working definition to intelligence without mentioning some of the key human mental abilities that have been proposed as recursion on lesser forms but proof that recursion or composition will produce these mental features does not exist\r",
      "\r",
      "\r",
      "concurrent learning and use of what has been learned\r",
      "the ability to invent new mechanisms of incremental improvement\r",
      "adaptivity to unexpected conditions\r",
      "the ability to invent structure outside currently learned domains\r",
      "\r",
      "\r",
      "future requirements for intelligent machines may include these and there may be some wisdom to include them now\r",
      "\r",
      "references\r",
      "\r",
      "scripts plans goals and understanding an inquiry into human knowledge structures schank abelson 2013 cited by 16689 articles tampf excerpt in the summer of 1971 there was a workshop in an illdefined field at the intersection of psychology artificial intelligence and linguistics the fifteen participants were in various ways interested in the representation of large systems of knowledge or beliefs\r",
      "\r",
      "understanding our craft mdash wanted a definition of intelligence michael warner 2002\r",
      "\r",
      "the concept of intelligence and its role in lifelong learning and success robert j sternberg yale  university 1997\r",
      "\r",
      "some philosophical problems from the standpoint of ai john mccarthy and patrick j hayes stanford university 1981\r",
      "\r",
      "understanding and developing emotional intelligence  olivier serrat knowledge solutions pp 329339 2017\r",
      "\r",
      "frames of mind the theory of multiple intelligences 2011 howard gardner\r",
      "\r",
      "7 seven kinds of smart identifying and developing your multiple intelligences 1999 thomas armstrong\r",
      "\r",
      "genomewide association metaanalysis of 78308 individuals identifies new loci and genes influencing human intelligence suzanne sniekers et al 2017\r\n",
      "*************************************************************************************************************\n",
      "i am working on my cs project about ai amp turing machines so i know that artifical intelligence is meant to implement different algorithms into the machine the computer to solve a problem or a set of problems together and i am getting ai as the machine is 'programmed' on a certain algorithms to solve problems or to show intelligent behavior when solving a specific problem \r",
      "\r",
      "\r",
      "\r",
      "  artifical intelligence is usually defined as the science of making computers do things that require intelligence when done by humans\r",
      "\r",
      "\r",
      "on the other hand turing machine just manipulates data of 0 amp 1 on a tape according to a table of rules to solve a problem calculate the input \r",
      "\r",
      "\r",
      "  a turing machine is an abstract machine that manipulates symbols on a strip of tape according to a table of rules\r",
      "\r",
      "\r",
      "\r",
      "so generally speaking both ai and turing machines are meant to compute the input and transfer it to a right answer output so here is what iam confused about \r",
      "\r",
      "\r",
      "what a formal defination would relate both of them \r",
      "can i say that both algorithms of ai and a table of rules of a\r",
      "turing machine are the same  \r",
      "can i also say that ai is about choosing the best solution between\r",
      "different solutions to the input and turing machine just\r",
      "shows a solution of the input \r",
      "\r\n",
      "*************************************************************************************************************\n",
      "\r",
      "  machine intelligence\r",
      "\r",
      "\r",
      "i believe intelligence is not a proprietary entity meant only living beings \r",
      "\r",
      "in fact the very origin of human intelligence is unknown it is still not known if we can generate a brain just by fixing up the corresponding molecules of the real braineven theoretically even if we could do that does that constitute a real intelligence or artificial intelligence is still very hazy\r",
      "\r",
      "i think the phrase machine intelligence would sound appropriate\r\n",
      "*************************************************************************************************************\n"
     ]
    }
   ],
   "source": [
    "top_items = []\n",
    "#a[0][0]\n",
    "for i in range(10):\n",
    "    top_items.append(a[i][0])\n",
    "    \n",
    "################################################################################################\n",
    "fw = open('SimilarPosts.txt', 'w')\n",
    "for index in top_items:\n",
    "    print (total_df.iloc[index,3])\n",
    "    fw.write(total_df.iloc[index,3] + \"\\n\")\n",
    "    print(\"*************************************************************************************************************\")\n",
    "fw.close() "
   ]
  },
  {
   "cell_type": "code",
   "execution_count": null,
   "metadata": {},
   "outputs": [],
   "source": []
  }
 ],
 "metadata": {
  "kernelspec": {
   "display_name": "Python 3",
   "language": "python",
   "name": "python3"
  },
  "language_info": {
   "codemirror_mode": {
    "name": "ipython",
    "version": 3
   },
   "file_extension": ".py",
   "mimetype": "text/x-python",
   "name": "python",
   "nbconvert_exporter": "python",
   "pygments_lexer": "ipython3",
   "version": "3.8.1"
  }
 },
 "nbformat": 4,
 "nbformat_minor": 4
}
